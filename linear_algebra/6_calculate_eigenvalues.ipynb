{
 "cells": [
  {
   "cell_type": "code",
   "execution_count": null,
   "id": "b5e7dcb5",
   "metadata": {},
   "outputs": [],
   "source": [
    "def calculate_eigenvalues(matrix: list[list[float|int]]) -> list[float]:\n",
    "\t##calculate trace and determinant of the matrix\n",
    "    trace_matrix = matrix[0][0] + matrix[1][1]\n",
    "    det_matrix = matrix[0][0]*matrix[1][1] - matrix[0][1]*matrix[1][0]\n",
    "    ## calculate roots using Sri Dharacharya Method\n",
    "    ## formula : (-trace +- root(trace^2 - 4*1*determinant))/2*1\n",
    "    eigenvalues = []\n",
    "    eigen_value_one = ((trace_matrix) + ((trace_matrix**2) - (4*det_matrix))\n",
    "    **(1/2))/2\n",
    "    eigenvalues.append(eigen_value_one)\n",
    "    eigen_value_two = ((trace_matrix) - ((trace_matrix**2) - (4*det_matrix))**(1/2))/2\n",
    "    eigenvalues.append(eigen_value_two)\n",
    "    return sorted(eigenvalues, reverse = True)"
   ]
  }
 ],
 "metadata": {
  "language_info": {
   "name": "python"
  }
 },
 "nbformat": 4,
 "nbformat_minor": 5
}
