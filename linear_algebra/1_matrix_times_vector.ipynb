{
 "cells": [
  {
   "cell_type": "markdown",
   "metadata": {},
   "source": [
    "## Write a Python function that takes the dot product of a matrix and a vector. return -1 if the matrix could not be dotted with the vector"
   ]
  },
  {
   "cell_type": "code",
   "execution_count": null,
   "metadata": {
    "vscode": {
     "languageId": "plaintext"
    }
   },
   "outputs": [],
   "source": [
    "def matrix_dot_vector(a, b):\n",
    "  c = []\n",
    "  len_b = len(b)\n",
    "  for x in a:\n",
    "    if len(x) != len_b:\n",
    "      return -1\n",
    "    else:\n",
    "      val = 0\n",
    "      for y in range(len(x)):\n",
    "        val += x[y]*b[y]\n",
    "      c.append(val)\n",
    "  return c\n",
    "\n",
    "    \n"
   ]
  }
 ],
 "metadata": {
  "language_info": {
   "name": "python"
  }
 },
 "nbformat": 4,
 "nbformat_minor": 2
}
