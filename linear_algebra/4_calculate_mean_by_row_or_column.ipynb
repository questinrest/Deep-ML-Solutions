{
 "cells": [
  {
   "cell_type": "markdown",
   "metadata": {},
   "source": [
    "## Write a Python function that calculates the mean of a matrix either by row or by column, based on a given mode. The function should take a matrix (list of lists) and a mode ('row' or 'column') as input and return a list of means according to the specified mode."
   ]
  },
  {
   "cell_type": "code",
   "execution_count": null,
   "metadata": {
    "vscode": {
     "languageId": "plaintext"
    }
   },
   "outputs": [],
   "source": [
    "def calculate_matrix_mean(matrix: list[list[float]], mode: str) -> list[float]:\n",
    "\tmean_list = []\n",
    "\tif mode == \"row\":\n",
    "\t\tn_row = len(matrix)\n",
    "\t\tfor x in range(n_row):\n",
    "\t\t\tn_col = len(matrix[0])\n",
    "\t\t\tmean_list.append(sum(matrix[x])/n_col)\n",
    "\telif mode == \"column\":\n",
    "\t\tn_row, n_col = len(matrix), len(matrix[0])\n",
    "\t\tnew_mat = []\n",
    "\t\tfor x in range(n_col):\n",
    "\t\t\telts = []\n",
    "\t\t\tfor y in range(n_row):\n",
    "\t\t\t\telts.append(0)\n",
    "\t\t\tnew_mat.append(elts)\n",
    "\t\tfor x in range(n_row):\n",
    "\t\t\tfor y in range(n_col):\n",
    "\t\t\t\tnew_mat[y][x] = matrix[x][y]\n",
    "\t\tfor x in range(len(new_mat)):\n",
    "\t\t\tn_col = len(new_mat[0])\n",
    "\t\t\tmean_list.append(sum(new_mat[x])/n_col)\n",
    "\treturn mean_list\n",
    "\t\t\n",
    "#it needs a more good and optimized approach! Will See Again!"
   ]
  }
 ],
 "metadata": {
  "language_info": {
   "name": "python"
  }
 },
 "nbformat": 4,
 "nbformat_minor": 2
}
