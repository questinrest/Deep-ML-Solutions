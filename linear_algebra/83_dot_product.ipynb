{
 "cells": [
  {
   "cell_type": "code",
   "execution_count": null,
   "id": "d473bb6b",
   "metadata": {},
   "outputs": [],
   "source": [
    "def calculate_dot_product(vec1, vec2):\n",
    "        dot_product = 0\n",
    "        for x in range(len(vec1)):\n",
    "            dot_product += vec1[x]*vec2[x]\n",
    "        return dot_product\n"
   ]
  }
 ],
 "metadata": {
  "language_info": {
   "name": "python"
  }
 },
 "nbformat": 4,
 "nbformat_minor": 5
}
