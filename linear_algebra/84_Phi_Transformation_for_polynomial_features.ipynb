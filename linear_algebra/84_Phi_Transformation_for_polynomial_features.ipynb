{
 "cells": [
  {
   "cell_type": "code",
   "execution_count": null,
   "id": "7345438a",
   "metadata": {},
   "outputs": [],
   "source": [
    "def phi_transform(data,degree):\n",
    "        if degree < 0 or len(data) == 0:\n",
    "            return []\n",
    "        output_list = []\n",
    "        for data_point in data:\n",
    "            temp = []\n",
    "            for d in range(degree+1):\n",
    "                temp.append(float(data_point**d))\n",
    "            output_list.append(temp)\n",
    "        return output_list"
   ]
  }
 ],
 "metadata": {
  "language_info": {
   "name": "python"
  }
 },
 "nbformat": 4,
 "nbformat_minor": 5
}
