{
 "cells": [
  {
   "cell_type": "markdown",
   "metadata": {},
   "source": [
    "## Write a Python function that computes the transpose of a given matrix."
   ]
  },
  {
   "cell_type": "code",
   "execution_count": null,
   "metadata": {
    "vscode": {
     "languageId": "plaintext"
    }
   },
   "outputs": [],
   "source": [
    "def transpose_matrix(a: list[list[int|float]]) -> list[list[int|float]]:\n",
    "\tn_row, n_col = len(a), len(a[0])\n",
    "\tnew_mat = []\n",
    "\tfor x in range(n_col):\n",
    "\t\telts = []\n",
    "\t\tfor y in range(n_row):\n",
    "\t\t\telts.append(0)\n",
    "\t\tnew_mat.append(elts)\n",
    "\tfor x in range(n_row):\n",
    "\t\tfor y in range(n_col):\n",
    "\t\t\tnew_mat[y][x] = a[x][y]\n",
    "\treturn new_mat\n"
   ]
  }
 ],
 "metadata": {
  "language_info": {
   "name": "python"
  }
 },
 "nbformat": 4,
 "nbformat_minor": 2
}
