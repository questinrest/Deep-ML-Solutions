{
 "cells": [
  {
   "cell_type": "code",
   "execution_count": null,
   "id": "6837bf54",
   "metadata": {},
   "outputs": [],
   "source": [
    "def reshape_matrix(a: list[list[int|float]], new_shape: tuple[int, int]) -> list[list[int|float]]:\n",
    "    nl = []\n",
    "    for x in a:\n",
    "        for y in x:\n",
    "            nl.append(y)\n",
    "    ## checking if multiplication is possible\n",
    "    rows, cols = len(a), len(a[0])\n",
    "    if rows*cols != new_shape[0]*new_shape[1]: ## if reshape is not possible\n",
    "        return []\n",
    "    else: ## when reshape is possible\n",
    "        ## now reshaping portion will come here\n",
    "        reshaped_matrix = []\n",
    "        for x in range(0,len(nl),new_shape[1]):\n",
    "            reshaped_matrix.append(list(nl[x:new_shape[1]+x]))\n",
    "    return reshaped_matrix"
   ]
  }
 ],
 "metadata": {
  "kernelspec": {
   "display_name": "base",
   "language": "python",
   "name": "python3"
  },
  "language_info": {
   "name": "python",
   "version": "3.12.7"
  }
 },
 "nbformat": 4,
 "nbformat_minor": 5
}
