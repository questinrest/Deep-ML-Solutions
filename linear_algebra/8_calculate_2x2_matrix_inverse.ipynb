{
 "cells": [
  {
   "cell_type": "code",
   "execution_count": null,
   "id": "2c4daebe",
   "metadata": {},
   "outputs": [],
   "source": [
    "def inverse_2x2(matrix: list[list[float]]) -> list[list[float]]:\n",
    "\t##checking if matrix is invertible --> determinant caculate\n",
    "    ## then calculate the inverse of the matrix --> using formula 1/det(A) * adj(A)\n",
    "    determinant = matrix[0][0]*matrix[1][1] - matrix[0][1]*matrix[1][0]\n",
    "    inverse_matrix = []\n",
    "    if determinant == 0:\n",
    "        return None\n",
    "    else:\n",
    "        for x in range(len(matrix)):\n",
    "            temp = []\n",
    "            for y in range(len(matrix[0])):\n",
    "                temp.append(0)\n",
    "            inverse_matrix.append(temp)\n",
    "        inverse_matrix[0][0], inverse_matrix[0][1], inverse_matrix[1][0], inverse_matrix[1][1] = round((1/determinant)* matrix[1][1], 1), round((-1/determinant) * matrix[0][1], 1), round((-1/determinant) * matrix[1][0], 1),round((1/determinant)*matrix[0][0],1)\n",
    "        return inverse_matrix"
   ]
  }
 ],
 "metadata": {
  "language_info": {
   "name": "python"
  }
 },
 "nbformat": 4,
 "nbformat_minor": 5
}
