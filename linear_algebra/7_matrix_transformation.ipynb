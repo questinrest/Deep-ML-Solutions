{
 "cells": [
  {
   "cell_type": "code",
   "execution_count": null,
   "id": "87906d67",
   "metadata": {},
   "outputs": [],
   "source": [
    "import numpy as np\n",
    "\n",
    "def transform_matrix(A: list[list[int|float]], T: list[list[int|float]], S: list[list[int|float]]) -> list[list[int|float]]:\n",
    "    if np.linalg.det(T) == 0 or np.linalg.det(S) == 0:\n",
    "        return -1\n",
    "    transformed_matrix = (np.linalg.inv(T)@A)@S\n",
    "\treturn transformed_matrix"
   ]
  }
 ],
 "metadata": {
  "language_info": {
   "name": "python"
  }
 },
 "nbformat": 4,
 "nbformat_minor": 5
}
